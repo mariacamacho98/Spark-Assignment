{
  "nbformat": 4,
  "nbformat_minor": 0,
  "metadata": {
    "colab": {
      "provenance": []
    },
    "kernelspec": {
      "name": "python3",
      "display_name": "Python 3"
    },
    "language_info": {
      "name": "python"
    }
  },
  "cells": [
    {
      "cell_type": "code",
      "execution_count": 1,
      "metadata": {
        "colab": {
          "base_uri": "https://localhost:8080/"
        },
        "id": "L59rlLOaCeml",
        "outputId": "72583670-c02c-41a8-86c3-6712a2665340"
      },
      "outputs": [
        {
          "output_type": "stream",
          "name": "stdout",
          "text": [
            "Collecting pyspark\n",
            "  Downloading pyspark-3.5.1.tar.gz (317.0 MB)\n",
            "\u001b[2K     \u001b[90m━━━━━━━━━━━━━━━━━━━━━━━━━━━━━━━━━━━━━━━━\u001b[0m \u001b[32m317.0/317.0 MB\u001b[0m \u001b[31m3.9 MB/s\u001b[0m eta \u001b[36m0:00:00\u001b[0m\n",
            "\u001b[?25h  Preparing metadata (setup.py) ... \u001b[?25l\u001b[?25hdone\n",
            "Requirement already satisfied: py4j==0.10.9.7 in /usr/local/lib/python3.10/dist-packages (from pyspark) (0.10.9.7)\n",
            "Building wheels for collected packages: pyspark\n",
            "  Building wheel for pyspark (setup.py) ... \u001b[?25l\u001b[?25hdone\n",
            "  Created wheel for pyspark: filename=pyspark-3.5.1-py2.py3-none-any.whl size=317488491 sha256=6c2e8d9b479f1e84a9d6df10f70e7de435198cb13ba5edc4022031c8fb0f03bb\n",
            "  Stored in directory: /root/.cache/pip/wheels/80/1d/60/2c256ed38dddce2fdd93be545214a63e02fbd8d74fb0b7f3a6\n",
            "Successfully built pyspark\n",
            "Installing collected packages: pyspark\n",
            "Successfully installed pyspark-3.5.1\n"
          ]
        }
      ],
      "source": [
        "!pip install pyspark\n",
        "from pyspark.sql import SparkSession\n",
        "\n",
        "# Create Spark session\n",
        "spark = SparkSession.builder.appName(\"MusicDataAnalysis\").getOrCreate()"
      ]
    },
    {
      "cell_type": "code",
      "source": [
        "# Import necessary library\n",
        "from pyspark.sql import SparkSession\n",
        "from pyspark.sql.functions import avg, when\n",
        "\n",
        "# Create Spark session\n",
        "spark = SparkSession.builder.appName(\"MusicDataAnalysis\").getOrCreate()\n",
        "\n",
        "# Load the dataset into a Spark DataFrame\n",
        "file_path = \"/content/dataset.csv\"\n",
        "df = spark.read.csv(file_path, header=True, inferSchema=True)\n",
        "\n",
        "# Print schema and verify data types\n",
        "df.printSchema()\n",
        "\n",
        "# Calculate average danceability, energy, and tempo of tracks by artist\n",
        "artist_avg_metrics = df.groupBy(\"artists\").agg(\n",
        "    avg(\"danceability\").alias(\"AvgDanceability\"),\n",
        "    avg(\"energy\").alias(\"AvgEnergy\"),\n",
        "    avg(\"tempo\").alias(\"AvgTempo\")\n",
        ")\n",
        "\n",
        "# Identify top 5 artists with highest average track popularity\n",
        "top_artists_popularity = df.groupBy(\"artists\").agg(\n",
        "    avg(\"popularity\").alias(\"AvgPopularity\")\n",
        ").orderBy(\"AvgPopularity\", ascending=False).limit(5)\n",
        "\n",
        "# Create a new column 'energy_level' classifying tracks as 'High Energy' or 'Regular Energy'\n",
        "df = df.withColumn(\"energy_level\", when(df[\"energy\"] > 0.8, \"High Energy\").otherwise(\"Regular Energy\"))\n",
        "\n",
        "# Group the data by this new energy classification and calculate average popularity and loudness\n",
        "energy_level_metrics = df.groupBy(\"energy_level\").agg(\n",
        "    avg(\"popularity\").alias(\"AvgPopularity\"),\n",
        "    avg(\"loudness\").alias(\"AvgLoudness\")\n",
        ")\n",
        "\n",
        "# Export the data that have been classified as 'High Energy' with overwrite mode\n",
        "high_energy_tracks = df.filter(df[\"energy_level\"] == \"High Energy\")\n",
        "high_energy_tracks.write.csv(\"/content/high_energy_tracks.csv\", mode=\"overwrite\", header=True)\n",
        "\n"
      ],
      "metadata": {
        "colab": {
          "base_uri": "https://localhost:8080/"
        },
        "id": "fZmMsvqLDwvE",
        "outputId": "4ed696a6-00ee-4e5e-a150-7e7db586c107"
      },
      "execution_count": 5,
      "outputs": [
        {
          "output_type": "stream",
          "name": "stdout",
          "text": [
            "root\n",
            " |-- _c0: integer (nullable = true)\n",
            " |-- track_id: string (nullable = true)\n",
            " |-- artists: string (nullable = true)\n",
            " |-- album_name: string (nullable = true)\n",
            " |-- track_name: string (nullable = true)\n",
            " |-- popularity: string (nullable = true)\n",
            " |-- duration_ms: string (nullable = true)\n",
            " |-- explicit: string (nullable = true)\n",
            " |-- danceability: string (nullable = true)\n",
            " |-- energy: string (nullable = true)\n",
            " |-- key: string (nullable = true)\n",
            " |-- loudness: string (nullable = true)\n",
            " |-- mode: string (nullable = true)\n",
            " |-- speechiness: string (nullable = true)\n",
            " |-- acousticness: string (nullable = true)\n",
            " |-- instrumentalness: double (nullable = true)\n",
            " |-- liveness: string (nullable = true)\n",
            " |-- valence: string (nullable = true)\n",
            " |-- tempo: double (nullable = true)\n",
            " |-- time_signature: double (nullable = true)\n",
            " |-- track_genre: string (nullable = true)\n",
            "\n"
          ]
        }
      ]
    }
  ]
}